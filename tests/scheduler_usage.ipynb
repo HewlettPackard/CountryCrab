{
 "cells": [
  {
   "cell_type": "code",
   "execution_count": 54,
   "id": "f7f841be-6e8f-436d-a327-e4ac91711763",
   "metadata": {},
   "outputs": [
    {
     "name": "stdout",
     "output_type": "stream",
     "text": [
      "The autoreload extension is already loaded. To reload it, use:\n",
      "  %reload_ext autoreload\n"
     ]
    }
   ],
   "source": [
    "%load_ext autoreload\n",
    "\n",
    "%autoreload 2\n",
    "\n",
    "from countrycrab import configure\n",
    "from countrycrab import analyze\n",
    "from countrycrab import cosmetics\n",
    "import os\n",
    "import matplotlib.pyplot as plt\n",
    "import numpy as np\n",
    "import pandas as pd\n",
    "import json\n",
    "import re\n",
    "\n",
    "os.environ[\"CUDA_VISIBLE_DEVICES\"]=\"0,1,2,3,4,5,6,7\""
   ]
  },
  {
   "cell_type": "markdown",
   "id": "dcb52676-5e9b-4004-85ea-9bf0041a5981",
   "metadata": {},
   "source": [
    "### Generate a list of instances for hyperparameters optimization and testing"
   ]
  },
  {
   "cell_type": "markdown",
   "id": "e2090ac1-475d-4432-b8a0-064714e8bb71",
   "metadata": {},
   "source": [
    "In the case, all instance from the SATLIB dataset uf20-91 https://www.cs.ubc.ca/~hoos/SATLIB/benchm.html are in the /data folder\n",
    "\n",
    "20% of them are selected for hyperparemeters optimization and remaining 80% for testing"
   ]
  },
  {
   "cell_type": "code",
   "execution_count": 56,
   "id": "1909d2a3-7d45-46d3-87c3-ec713fdf2f17",
   "metadata": {},
   "outputs": [],
   "source": [
    "module_path = os.path.abspath(os.path.join(\"..\"))\n",
    "instances_path = module_path+'/data/datasets/uf20-91/'\n",
    "instances_hpo, instances_test = configure.split_hpo_test([instances_path],hpo_test = 0.2)"
   ]
  },
  {
   "cell_type": "markdown",
   "id": "49916af1-1fcc-43dc-8157-16e58e78f4c8",
   "metadata": {},
   "source": [
    "### Create a configuration file for Hyper Parameters Optimization and save it in the config solver"
   ]
  },
  {
   "cell_type": "code",
   "execution_count": 57,
   "id": "2c200e0c-71cf-4034-a243-5e12a084f9d5",
   "metadata": {},
   "outputs": [],
   "source": [
    "configuration = {\n",
    "    # Heuristic parameters\n",
    "    \"max_runs\": 10000,\n",
    "    \"max_flips\": 1000,\n",
    "    \"noise_distribution\": \"normal\",\n",
    "    # HyperParameters. num_samples points between min_noise and max_noise will be generated for each instance in the instance_list\n",
    "    \"min_noise\":0.5,\n",
    "    \"max_noise\":1,\n",
    "    \"num_samples\": 5,\n",
    "    # Experiments parameter\n",
    "    \"p_solve\": 0.99,\n",
    "    \"task\": \"hpo\",\n",
    "    \"experiment_name\": \"scheduler_example_hpo\",\n",
    "    \"instance_list\": instances_hpo[0:10],\n",
    "}"
   ]
  },
  {
   "cell_type": "code",
   "execution_count": 58,
   "id": "ae26704e-4cb0-4a7e-8ae0-f266a23b4544",
   "metadata": {},
   "outputs": [],
   "source": [
    "# Specify the filename\n",
    "filename = \"hpo_example.json\"\n",
    "filename = module_path+'/config/'+filename\n",
    "# Writing JSON data\n",
    "with open(filename, 'w') as f:\n",
    "    json.dump(configuration, f, indent=4)\n"
   ]
  },
  {
   "cell_type": "markdown",
   "id": "c1b0a1ac-2fbe-439f-bd91-e01d02384967",
   "metadata": {},
   "source": [
    "### Run the hyperparameters optimization experiment"
   ]
  },
  {
   "cell_type": "markdown",
   "id": "04ef507d-7063-4dfd-806d-70247723cdf2",
   "metadata": {},
   "source": [
    "Open a shell and run<br>\n",
    "`\n",
    "python3 countrycrab/scheduler.py --tracking_uri='scheduler_example' --config='config/hpo_example.json' \n",
    "`<br><br>\n",
    "where `tracking_uri` is the mlflow uri where the experiments will be stored, and `config` the configuration file previously created"
   ]
  },
  {
   "cell_type": "markdown",
   "id": "2932b0cd-cd66-46a5-a8c9-4989c787f911",
   "metadata": {},
   "source": [
    "### Analyze the hyperparameters optimization experiment"
   ]
  },
  {
   "cell_type": "code",
   "execution_count": 59,
   "id": "efdfe327-e06e-4dd0-a57d-b30d20f9e5e0",
   "metadata": {},
   "outputs": [
    {
     "name": "stderr",
     "output_type": "stream",
     "text": [
      "2024-02-29 23:19:42,519\tINFO experiment_analysis.py:972 -- No trial data passed in during `ExperimentAnalysis` initialization -- you are most likely loading the experiment after it has completed.\n",
      "Loading trial data from the experiment checkpoint file. This may result in loading some stale information, since checkpointing is periodic.\n"
     ]
    }
   ],
   "source": [
    "module_path = os.path.abspath(os.path.join(\"..\"))\n",
    "tracking_uri = module_path+'/data/experiments/scheduler_example/'\n",
    "experiment_name = configuration['experiment_name']\n",
    "result = analyze.generate_report(tracking_uri,experiment_name)"
   ]
  },
  {
   "cell_type": "code",
   "execution_count": 60,
   "id": "06242dcd-4568-44c6-afbe-815a5eb59a4a",
   "metadata": {},
   "outputs": [],
   "source": [
    "# add number of variables to each instance\n",
    "N_V = []\n",
    "for instance in result['config/instance']:\n",
    "    tmp = re.search('uf(.*)-', instance).group(1)\n",
    "    N_V.append(int(re.search('uf(.*)', tmp).group(1)))\n",
    "result['N'] = N_V"
   ]
  },
  {
   "cell_type": "code",
   "execution_count": 62,
   "id": "68fa627a-cb88-43b8-bb5c-a50ba8a9edba",
   "metadata": {},
   "outputs": [
    {
     "data": {
      "text/plain": [
       "Index(['its', 'max_flips_opt', 'time_this_iter_s', 'done',\n",
       "       'training_iteration', 'trial_id', 'date', 'timestamp', 'time_total_s',\n",
       "       'pid', 'hostname', 'node_ip', 'time_since_restore',\n",
       "       'iterations_since_restore', 'config/compiler', 'config/heuristic',\n",
       "       'config/instance', 'config/max_flips', 'config/max_runs',\n",
       "       'config/n_cores', 'config/n_words', 'config/noise',\n",
       "       'config/noise_distribution', 'config/p_solve', 'config/scheduling',\n",
       "       'config/task', 'logdir', 'N'],\n",
       "      dtype='object')"
      ]
     },
     "execution_count": 62,
     "metadata": {},
     "output_type": "execute_result"
    }
   ],
   "source": [
    "result.columns"
   ]
  },
  {
   "cell_type": "code",
   "execution_count": 15,
   "id": "6ec12b9c-e0fc-4dea-a102-3f1f74b7a0bd",
   "metadata": {},
   "outputs": [
    {
     "data": {
      "text/plain": [
       "Text(0, 0.5, 'optTTS$_{99}$ (µs)')"
      ]
     },
     "execution_count": 15,
     "metadata": {},
     "output_type": "execute_result"
    },
    {
     "data": {
      "image/png": "[encoded data removed]",
      "text/plain": [
       "<Figure size 320x320 with 2 Axes>"
      ]
     },
     "metadata": {},
     "output_type": "display_data"
    }
   ],
   "source": [
    "plt.plot(result.groupby('config/noise')['its'].median(),'-o')\n",
    "plt.xlabel('Standard deviation of noise')\n",
    "plt.ylabel('ITS')\n",
    "plt.twinx().plot(result.groupby('config/noise')['opt_tts'].median() * 1e6, '-o', c='C1', alpha=.6)\n",
    "plt.ylabel('optTTS$_{99}$ (µs)')"
   ]
  },
  {
   "cell_type": "code",
   "execution_count": 66,
   "id": "0648947a-8739-4a14-80dc-a422467e4ca3",
   "metadata": {},
   "outputs": [
    {
     "data": {
      "text/plain": [
       "Text(0, 0.5, 'Optimal MAX_FLIPS')"
      ]
     },
     "execution_count": 66,
     "metadata": {},
     "output_type": "execute_result"
    },
    {
     "data": {
      "image/png": "[encoded data removed]",
      "text/plain": [
       "<Figure size 320x320 with 1 Axes>"
      ]
     },
     "metadata": {},
     "output_type": "display_data"
    }
   ],
   "source": [
    "plt.plot(result.groupby('config/noise')['max_flips_opt'].median(),'-o')\n",
    "plt.xlabel('Standard deviation of noise')\n",
    "plt.ylabel('Optimal MAX_FLIPS')"
   ]
  },
  {
   "cell_type": "markdown",
   "id": "edecb9f9-4270-4044-b3c9-02df460cc7f9",
   "metadata": {},
   "source": [
    "Cluster the results by instance and by size and find best noise and best MAX_FLIPS"
   ]
  },
  {
   "cell_type": "code",
   "execution_count": 68,
   "id": "42b49242-94db-4f07-b7ba-574263dcd563",
   "metadata": {},
   "outputs": [],
   "source": [
    "min_its_instance = result.iloc[result.groupby('config/instance')['its'].idxmin()]\n",
    "min_its_instance_var = min_its_instance['N']\n",
    "min_its_instance_noise = min_its_instance['config/noise']\n",
    "best_noise_size = min_its_instance.groupby('N')['config/noise'].median()\n",
    "best_max_flips_size = min_its_instance.groupby('N')['max_flips_opt'].median()"
   ]
  },
  {
   "cell_type": "markdown",
   "id": "dab39677-c04d-4e51-945f-1ecc7288d85e",
   "metadata": {},
   "source": [
    "Hyperparams can be saved for later use with the scheduler. In this way the scheduler can be loaded for example with instances of different size, and for each size an optimized hp can be found"
   ]
  },
  {
   "cell_type": "code",
   "execution_count": 70,
   "id": "610641cc-2070-4f36-a079-5c123849ba5c",
   "metadata": {},
   "outputs": [],
   "source": [
    "optimized_hp ={\"N_V\" : result['N'].unique().tolist(),\n",
    "\"noise\" : best_noise_size.tolist(),\n",
    "\"max_flips_median\" : best_max_flips_size.tolist()}"
   ]
  },
  {
   "cell_type": "code",
   "execution_count": 71,
   "id": "fced9e84-abdd-41cc-ba83-355514e3a58e",
   "metadata": {},
   "outputs": [],
   "source": [
    "module_path = os.path.abspath(os.path.join(\"..\"))\n",
    "filename = module_path+'/data/hp/'+experiment_name+'.json'\n",
    "# Writing JSON data\n",
    "with open(filename, 'w') as f:\n",
    "    json.dump(optimized_hp, f, indent=4)\n"
   ]
  },
  {
   "cell_type": "markdown",
   "id": "65bdf841-d166-4031-9e3b-d8922db66f38",
   "metadata": {},
   "source": [
    "### Create scheduler configuration with the hyperparameters that we just optimized"
   ]
  },
  {
   "cell_type": "code",
   "execution_count": 72,
   "id": "34e25356-442c-4749-838d-221f4b830be7",
   "metadata": {},
   "outputs": [],
   "source": [
    "configuration = {\n",
    "    # Heuristic parameters\n",
    "    \"max_runs\": 10000,\n",
    "    \"noise_distribution\": \"normal\",\n",
    "    # HyperParameters. loaded from file\n",
    "    \"hp_location\": filename,\n",
    "    # Experiments parameter\n",
    "    \"p_solve\": 0.99,\n",
    "    \"task\": \"solve\",\n",
    "    \"experiment_name\": \"scheduler_example_run\",\n",
    "    \"instance_list\": instances_test[0:10],\n",
    "}"
   ]
  },
  {
   "cell_type": "code",
   "execution_count": 73,
   "id": "0afecf9b-fb04-4412-83ce-10005decdb3e",
   "metadata": {},
   "outputs": [],
   "source": [
    "# Specify the filename\n",
    "filename = \"scheduler_example.json\"\n",
    "filename = module_path+'/config/'+filename\n",
    "# Writing JSON data\n",
    "with open(filename, 'w') as f:\n",
    "    json.dump(configuration, f, indent=4)"
   ]
  },
  {
   "cell_type": "markdown",
   "id": "b6efd149-d0a2-424e-a825-5193be1e10d8",
   "metadata": {},
   "source": [
    "### Run scheduler"
   ]
  },
  {
   "cell_type": "markdown",
   "id": "71c13086-94a5-4701-a6ee-d79c939b339b",
   "metadata": {},
   "source": [
    "Open a shell and run<br>\n",
    "`\n",
    "python3 countrycrab/scheduler.py --tracking_uri='scheduler_example' --config='config/scheduler_example.json' \n",
    "`<br><br>\n",
    "where `tracking_uri` is the mlflow uri where the experiments will be stored, and `config` the configuration file previously created"
   ]
  },
  {
   "cell_type": "markdown",
   "id": "98b417b0-1269-4d82-8afc-bfdcea36d3f9",
   "metadata": {},
   "source": [
    "### Analyze experiment"
   ]
  },
  {
   "cell_type": "code",
   "execution_count": 75,
   "id": "12d58064-21e6-45c2-8ea6-b54f6ca0994e",
   "metadata": {
    "scrolled": true
   },
   "outputs": [
    {
     "name": "stderr",
     "output_type": "stream",
     "text": [
      "2024-02-29 23:31:37,555\tINFO experiment_analysis.py:972 -- No trial data passed in during `ExperimentAnalysis` initialization -- you are most likely loading the experiment after it has completed.\n",
      "Loading trial data from the experiment checkpoint file. This may result in loading some stale information, since checkpointing is periodic.\n"
     ]
    }
   ],
   "source": [
    "module_path = os.path.abspath(os.path.join(\"..\"))\n",
    "tracking_uri = module_path+'/data/experiments/scheduler_example'\n",
    "experiment_name = configuration['experiment_name']\n",
    "result = analyze.generate_report(tracking_uri,experiment_name)"
   ]
  },
  {
   "cell_type": "code",
   "execution_count": 76,
   "id": "9fc5a24a-7f52-4e31-b52c-beeb30a2967a",
   "metadata": {},
   "outputs": [
    {
     "data": {
      "text/plain": [
       "Index(['its', 'time_this_iter_s', 'done', 'training_iteration', 'trial_id',\n",
       "       'date', 'timestamp', 'time_total_s', 'pid', 'hostname', 'node_ip',\n",
       "       'time_since_restore', 'iterations_since_restore', 'config/compiler',\n",
       "       'config/heuristic', 'config/instance', 'config/max_flips',\n",
       "       'config/max_runs', 'config/n_cores', 'config/n_words', 'config/noise',\n",
       "       'config/noise_distribution', 'config/p_solve', 'config/scheduling',\n",
       "       'config/task', 'logdir'],\n",
       "      dtype='object')"
      ]
     },
     "execution_count": 76,
     "metadata": {},
     "output_type": "execute_result"
    }
   ],
   "source": [
    "result.columns"
   ]
  },
  {
   "cell_type": "code",
   "execution_count": 77,
   "id": "f946496b-09f1-4c64-9ad3-5a4a8a34696a",
   "metadata": {},
   "outputs": [
    {
     "data": {
      "text/plain": [
       "Text(0, 0.5, 'ITS$_{99}$')"
      ]
     },
     "execution_count": 77,
     "metadata": {},
     "output_type": "execute_result"
    },
    {
     "data": {
      "image/png": "[encoded data removed]",
      "text/plain": [
       "<Figure size 320x320 with 1 Axes>"
      ]
     },
     "metadata": {},
     "output_type": "display_data"
    }
   ],
   "source": [
    "plt.plot(result['its'],'o')\n",
    "plt.xlabel('Instance')\n",
    "plt.ylabel('ITS$_{99}$')"
   ]
  },
  {
   "cell_type": "code",
   "execution_count": null,
   "id": "929386a4-13a9-4160-810b-8649a09e3301",
   "metadata": {},
   "outputs": [],
   "source": []
  }
 ],
 "metadata": {
  "kernelspec": {
   "display_name": "Python 3 (ipykernel)",
   "language": "python",
   "name": "python3"
  },
  "language_info": {
   "codemirror_mode": {
    "name": "ipython",
    "version": 3
   },
   "file_extension": ".py",
   "mimetype": "text/x-python",
   "name": "python",
   "nbconvert_exporter": "python",
   "pygments_lexer": "ipython3",
   "version": "3.10.12"
  }
 },
 "nbformat": 4,
 "nbformat_minor": 5
}
